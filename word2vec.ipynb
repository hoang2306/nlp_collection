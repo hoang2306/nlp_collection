{
  "cells": [
    {
      "cell_type": "code",
      "execution_count": 12,
      "metadata": {
        "id": "YbWYHS6upw_U"
      },
      "outputs": [],
      "source": [
        "import numpy as np\n",
        "import torch\n",
        "import torch.nn as nn\n",
        "import matplotlib.pyplot as plt\n",
        "from tqdm import tqdm\n",
        "import time"
      ]
    },
    {
      "cell_type": "code",
      "execution_count": 18,
      "metadata": {
        "colab": {
          "base_uri": "https://localhost:8080/"
        },
        "id": "ovkeHowapw_V",
        "outputId": "c825799f-ff26-4723-b1b8-64e79e07c88c"
      },
      "outputs": [
        {
          "output_type": "stream",
          "name": "stdout",
          "text": [
            "word list: ['monkey', 'dog', 'orange', 'fruit', 'cat', 'apple', 'animal', 'banana'], size: 8\n",
            "stoi: {'monkey': 0, 'dog': 1, 'orange': 2, 'fruit': 3, 'cat': 4, 'apple': 5, 'animal': 6, 'banana': 7}\n",
            "skip gram: [[7, 3], [7, 5], [3, 7], [3, 7], [7, 2], [7, 3], [2, 3], [2, 7], [3, 2], [3, 2], [2, 7], [2, 3], [7, 3], [7, 2], [3, 1], [3, 7], [1, 4], [1, 3], [4, 6], [4, 1], [6, 4], [6, 4], [4, 0], [4, 6], [0, 6], [0, 4], [6, 0], [6, 0], [0, 1], [0, 6], [1, 6], [1, 0]]\n",
            "inputs: tensor([[0., 0., 0., 1., 0., 0., 0., 0.],\n",
            "        [0., 0., 0., 0., 0., 0., 0., 1.],\n",
            "        [0., 0., 0., 1., 0., 0., 0., 0.],\n",
            "        [0., 0., 0., 0., 1., 0., 0., 0.],\n",
            "        [0., 0., 0., 0., 1., 0., 0., 0.],\n",
            "        [1., 0., 0., 0., 0., 0., 0., 0.],\n",
            "        [1., 0., 0., 0., 0., 0., 0., 0.],\n",
            "        [0., 0., 0., 1., 0., 0., 0., 0.]]), label: tensor([2, 3, 7, 1, 6, 6, 6, 7])\n"
          ]
        }
      ],
      "source": [
        "class Net(nn.Module):\n",
        "    def __init__(self, embedding_size, vocab_size):\n",
        "        super().__init__()\n",
        "        # self.nn = nn.Sequential(\n",
        "        #     nn.Linear(vocab_size, embedding_size),\n",
        "        #     nn.Linear(embedding_size, vocab_size)\n",
        "        # )\n",
        "\n",
        "        self.linear_1 = nn.Linear(vocab_size, embedding_size)\n",
        "        self.linear_2 = nn.Linear(embedding_size, vocab_size)\n",
        "\n",
        "    def forward(self, x):\n",
        "        # return self.nn(x)\n",
        "        x_1 = self.linear_1(x)\n",
        "        x_2 = self.linear_2(x_1)\n",
        "        return x_2, x_1\n",
        "\n",
        "\n",
        "# make fake data\n",
        "sentences = [\n",
        "    \"apple banana fruit\",\n",
        "    \"banana orange fruit\",\n",
        "    \"orange banana fruit\",\n",
        "    \"dog cat animal\",\n",
        "    \"cat monkey animal\",\n",
        "    \"monkey dog animal\"\n",
        "]\n",
        "# make vocab set\n",
        "cat_sentences = \" \".join(sentences).split(' ')\n",
        "word_all = \" \".join(sentences).split(' ')\n",
        "word_list = list(set(word_all))\n",
        "vocab_size = len(word_list)\n",
        "print(f'word list: {word_list}, size: {vocab_size}')\n",
        "# stoi\n",
        "stoi = {\n",
        "    v: k for k, v in enumerate(word_list)\n",
        "}\n",
        "print(f'stoi: {stoi}')\n",
        "\n",
        "\n",
        "# make skip gram\n",
        "skip_gram = [] # each element is pair include [target, context]\n",
        "for i in range(1, len(cat_sentences) - 1):\n",
        "    # print(f'i: {i}')\n",
        "    target_word = cat_sentences[i]\n",
        "    # convert to index\n",
        "    target_index = stoi[target_word]\n",
        "\n",
        "    context_word = []\n",
        "    d = 1\n",
        "    for j in range(i+1, i+d+1):\n",
        "        # print(f'j: {j}')\n",
        "        context_word.append(cat_sentences[j])\n",
        "\n",
        "    for j in range(i-d, i):\n",
        "        # print(f'j: {j}')\n",
        "        context_word.append(cat_sentences[j])\n",
        "\n",
        "    context_index = [stoi[j] for j in context_word]\n",
        "\n",
        "    for word_index in context_index:\n",
        "        skip_gram.append([target_index, word_index])\n",
        "\n",
        "print(f'skip gram: {skip_gram}')\n",
        "\n",
        "\n",
        "def collate_batch(batch):\n",
        "    inputs = [] # target\n",
        "    label = [] # context\n",
        "    for i in range(len(batch)):\n",
        "        inputs.append(\n",
        "            np.eye(vocab_size)[batch[i][0]]\n",
        "        )\n",
        "        label.append(\n",
        "            batch[i][1]\n",
        "        )\n",
        "\n",
        "    # convert to tensor\n",
        "    inputs = torch.tensor(inputs, dtype=torch.float32)\n",
        "    label = torch.tensor(label, dtype=torch.long)\n",
        "    # inputs = torch.from_numpy(inputs)\n",
        "    # label = torch.from_numpy(label)\n",
        "\n",
        "    return inputs, label\n",
        "\n",
        "# dataloader\n",
        "loader = torch.utils.data.DataLoader(\n",
        "    dataset=skip_gram,\n",
        "    batch_size=8,\n",
        "    shuffle=True,\n",
        "    collate_fn=collate_batch\n",
        ")\n",
        "\n",
        "# test data\n",
        "for inputs, label in loader:\n",
        "    print(f'inputs: {inputs}, label: {label}')\n",
        "    break\n",
        "\n",
        "device = torch.device('cuda:0' if torch.cuda.is_available() else 'cpu')\n",
        "# device = torch.device('cpu')\n",
        "model = Net(embedding_size=2, vocab_size=vocab_size).to(device) # 2 for visualize\n",
        "optimizer = torch.optim.Adam(model.parameters(), lr=1e-2)\n",
        "criterion = torch.nn.CrossEntropyLoss()\n"
      ]
    },
    {
      "cell_type": "code",
      "execution_count": 14,
      "metadata": {
        "colab": {
          "base_uri": "https://localhost:8080/"
        },
        "id": "P9mWuFbnpw_X",
        "outputId": "6ae8f1cb-15cb-4bbc-865a-d0ee6650105c"
      },
      "outputs": [
        {
          "output_type": "stream",
          "name": "stdout",
          "text": [
            "loss: 2.1493030190467834, time_train: 0.006707429885864258\n",
            "loss: 1.115750104188919, time_train: 0.004768848419189453\n",
            "loss: 1.0726203322410583, time_train: 0.004949092864990234\n",
            "loss: 1.0523369908332825, time_train: 0.006592273712158203\n",
            "loss: 1.0442535430192947, time_train: 0.004913806915283203\n"
          ]
        }
      ],
      "source": [
        "history_loss = []\n",
        "epochs = 1000\n",
        "for epoch in range(epochs):\n",
        "    # pbar = tqdm(enumerate(loader))\n",
        "    pbar = enumerate(loader)\n",
        "    loss_per_epoch = []\n",
        "    start_time_epoch = time.time()\n",
        "    for batch_idx, (inputs, label) in pbar:\n",
        "        inputs = inputs.to(device)\n",
        "        label = label.to(device)\n",
        "        optimizer.zero_grad()\n",
        "        out, _ = model(inputs)\n",
        "        # loss = torch.nn.functional.cross_entropy(out, label)\n",
        "        loss = criterion(out, label)\n",
        "        loss_per_epoch.append(loss.item())\n",
        "        loss.backward()\n",
        "        optimizer.step()\n",
        "\n",
        "    loss_epoch = np.mean(loss_per_epoch)\n",
        "    if epoch == 0 or loss_epoch < history_loss[-1]:\n",
        "        history_loss.append(loss_epoch)\n",
        "        torch.save(model.state_dict(), 'net.pt')\n",
        "\n",
        "    if epoch % 200 == 0:\n",
        "        print(f'loss: {loss_epoch}, time_train: {time.time() - start_time_epoch}')"
      ]
    },
    {
      "cell_type": "code",
      "execution_count": 15,
      "metadata": {
        "colab": {
          "base_uri": "https://localhost:8080/",
          "height": 430
        },
        "id": "qMrewfuypw_X",
        "outputId": "228185cc-6d47-49c0-f761-e56a2f2525be"
      },
      "outputs": [
        {
          "output_type": "display_data",
          "data": {
            "text/plain": [
              "<Figure size 640x480 with 1 Axes>"
            ],
            "image/png": "[encoded data removed]"
          },
          "metadata": {}
        }
      ],
      "source": [
        "# visualize in embedding_space\n",
        "# with torch.no_grad():\n",
        "#     for w_idx, w in enumerate(word_list):\n",
        "#         w_idx_vec = np.eye(vocab_size)[w_idx]\n",
        "#         w_idx_vec = torch.tensor(w_idx_vec, dtype=torch.float32)\n",
        "#         _, x_v = model(w_idx_vec)\n",
        "#         print(f'x_v: {x_v}')\n",
        "#         x, y = x_v[0].item(), x_v[1].item()\n",
        "#         # print(f'x: {x}, y: {y}')\n",
        "#         plt.scatter(x, y)\n",
        "\n",
        "model = Net(embedding_size=2, vocab_size=8)\n",
        "model.load_state_dict(torch.load('net.pt', weights_only=True))\n",
        "model.eval()\n",
        "\n",
        "X = []\n",
        "Y = []\n",
        "for w_idx, w in enumerate(word_list):\n",
        "    w_idx_vec = np.eye(vocab_size)[w_idx]\n",
        "    w_idx_vec = torch.tensor(w_idx_vec, dtype=torch.float32)\n",
        "    _, x_v = model(w_idx_vec)\n",
        "    # print(f'x_v: {x_v}')\n",
        "    x, y = x_v[0].item(), x_v[1].item()\n",
        "    # print(f'x: {x}, y: {y}')\n",
        "    X.append(x)\n",
        "    Y.append(y)\n",
        "    plt.scatter(x, y)\n",
        "    plt.annotate(w, xy=(x, y), xytext=(5, 2), textcoords='offset points', ha='right', va='bottom')\n",
        "\n",
        "# plt.scatter(X, Y)"
      ]
    }
  ],
  "metadata": {
    "kernelspec": {
      "display_name": "Python 3",
      "name": "python3"
    },
    "language_info": {
      "codemirror_mode": {
        "name": "ipython",
        "version": 3
      },
      "file_extension": ".py",
      "mimetype": "text/x-python",
      "name": "python",
      "nbconvert_exporter": "python",
      "pygments_lexer": "ipython3",
      "version": "3.12.7"
    },
    "colab": {
      "provenance": [],
      "gpuType": "T4"
    },
    "accelerator": "GPU"
  },
  "nbformat": 4,
  "nbformat_minor": 0
}